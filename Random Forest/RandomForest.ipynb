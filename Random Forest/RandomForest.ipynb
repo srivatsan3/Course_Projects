{
  "nbformat": 4,
  "nbformat_minor": 0,
  "metadata": {
    "colab": {
      "name": "Q4_RandomForest.ipynb",
      "provenance": []
    },
    "kernelspec": {
      "name": "python3",
      "display_name": "Python 3"
    },
    "language_info": {
      "name": "python"
    }
  },
  "cells": [
    {
      "cell_type": "code",
      "metadata": {
        "id": "xk9bz0FvNSgd"
      },
      "source": [
        "import numpy as np\n",
        "import pandas as pd\n",
        "import matplotlib.pyplot as plt\n",
        "from math import log\n",
        "from statistics import mode \n",
        "import random\n",
        "from sklearn.metrics import accuracy_score\n",
        "random.seed(0)"
      ],
      "execution_count": 25,
      "outputs": []
    },
    {
      "cell_type": "code",
      "metadata": {
        "id": "Px6Ij-OmfRqC"
      },
      "source": [
        "class DecisionTree():\n",
        "    class Node():\n",
        "        def __init__(self,column,value,true_child,false_child):\n",
        "            self.column = column\n",
        "            self.value = value\n",
        "            self.true_child = true_child\n",
        "            self.false_child = false_child\n",
        "\n",
        "    class Leaf_Node():\n",
        "        def __init__(self,labels):\n",
        "            freq={}\n",
        "            for label in labels:\n",
        "                if label not in freq:\n",
        "                    freq[label]=0\n",
        "                freq[label] = freq[label] + 1\n",
        "            self.result=freq\n",
        "\n",
        "    def query(self,data,column,value):\n",
        "        return data[column] >= value\n",
        "\n",
        "    def partition(self,data,col,value):\n",
        "        true = []\n",
        "        false = []\n",
        "        for row in data:\n",
        "            if self.query(row,col,value):\n",
        "                true.append(row)\n",
        "            else:\n",
        "                false.append(row)\n",
        "        return np.array(true),np.array(false)\n",
        "    def entropy_impurity(self,labels):\n",
        "        freq={}\n",
        "        for label in  labels:\n",
        "            if label not in freq:\n",
        "                freq[label]=0\n",
        "            freq[label] = freq[label] + 1\n",
        "        impurity=1\n",
        "        for label in freq:\n",
        "            impurity = impurity - (freq[label]/len(labels))*(log((freq[label]/len(labels)))/log(2))\n",
        "        return impurity\n",
        "    \n",
        "    def info_gain_entropy(self,current,left,right):\n",
        "        return current-((len(left))/(len(left)+len(right)))*self.entropy_impurity(left)-(1-((len(left))/(len(left)+len(right))))*self.entropy_impurity(right)\n",
        "    \n",
        "    def best_split(self,data,features):\n",
        "        best_gain=0\n",
        "        best_col = 0\n",
        "        best_val = 0\n",
        "        if features <= data.shape[1]-1:\n",
        "            feature_cols = random.sample(range(0,data.shape[1]-1),features)\n",
        "        else:\n",
        "            feature_cols = range(len(data[0])-1)\n",
        "        \n",
        "        current=self.entropy_impurity(data[:,-1])\n",
        "\n",
        "        for col in feature_cols:\n",
        "            for val in np.unique(data[:,col]):\n",
        "                true,false=self.partition(data,col,val)\n",
        "                if len(true)==0 or len(false) ==0:\n",
        "                    continue\n",
        "                gain=self.info_gain_entropy(current,np.array(true)[:,-1],np.array(false)[:,-1])\n",
        "                if gain>=best_gain:\n",
        "                    best_gain = gain\n",
        "                    best_col = col\n",
        "                    best_val = val \n",
        "        return best_gain,best_col,best_val\n",
        "\n",
        "    def learn(self, training_set,features):\n",
        "        # implement this function\n",
        "        self.tree = self.build_tree(training_set,features)\n",
        "    \n",
        "    def build_tree(self,training_set,features):\n",
        "        gain,col,val=self.best_split(training_set,features)\n",
        "        if gain == 0:\n",
        "            return self.Leaf_Node(training_set[:,-1])\n",
        "        true,false = self.partition(training_set,col,val)\n",
        "        true_child = self.build_tree(true,features)\n",
        "        false_child = self.build_tree(false,features)\n",
        "        return self.Node(col,val, true_child, false_child)\n",
        "    \n",
        "\n",
        "    # implement this function\n",
        "    def classify(self,test_data):\n",
        "        temp = self.tree\n",
        "        while isinstance(temp,self.Leaf_Node) == False:\n",
        "            if test_data[temp.column] >= temp.value:\n",
        "                temp = temp.true_child\n",
        "            else:\n",
        "                temp = temp.false_child\n",
        "\n",
        "            if isinstance(temp,self.Leaf_Node):\n",
        "                return list(temp.result.keys())[list(temp.result.values()).index(max(temp.result.values()))]\n"
      ],
      "execution_count": 26,
      "outputs": []
    },
    {
      "cell_type": "code",
      "metadata": {
        "id": "9BjiP2U0TsMH"
      },
      "source": [
        "def data_split(data,no_of_samples):\n",
        "    sample_rows = [random.randrange(0,len(data)) for x in range(no_of_samples)]\n",
        "    sample_data = data[sample_rows, :]\n",
        "    return np.array(sample_data),np.array(sample_rows)\n",
        "\n",
        "    \n",
        "def accuracy(y_true,y_pred):\n",
        "    conf_matrix = np.zeros(shape=(2,2))\n",
        "    for i in range(len(y_true)):\n",
        "        conf_matrix[int(y_true[i])][int(y_pred[i])] = conf_matrix[int(y_true[i])][int(y_pred[i])]+1\n",
        "    accuracy_value = (conf_matrix[0][0]+conf_matrix[1][1])/(np.sum(conf_matrix))\n",
        "\n",
        "    return accuracy_value\n"
      ],
      "execution_count": 27,
      "outputs": []
    },
    {
      "cell_type": "code",
      "metadata": {
        "id": "lNNqtRwhJwh6"
      },
      "source": [
        "def run_decision_tree(num_trees,num_samples,num_features):\n",
        "    data = np.array(pd.read_csv('https://web.stanford.edu/~hastie/ElemStatLearn//datasets/spam.data',delimiter=' ',header=None))\n",
        "    split_ratio = 0.7\n",
        "    test_accuracy_list = []\n",
        "    orig_train_data = data[:int(split_ratio*len(data)),:]\n",
        "    test_data = data[int(split_ratio*len(data)):,:]\n",
        "\n",
        "    test_preds = []\n",
        "    final_preds = []\n",
        "    for iter in range(num_trees):\n",
        "        single_test_preds = []\n",
        "        train_data,sample_rows = data_split(orig_train_data,num_samples)\n",
        "        tree = DecisionTree()\n",
        "        tree.learn(train_data,num_features)\n",
        "        test_results = []\n",
        "        for instance in test_data:\n",
        "            result = tree.classify( instance[:-1] )\n",
        "            single_test_preds.append(result)\n",
        "            test_results.append( result == instance[-1])\n",
        "        test_acc = float(test_results.count(True))/float(len(test_results))\n",
        "        test_accuracy_list.append(test_acc)\n",
        "\n",
        "        test_preds.append(single_test_preds)\n",
        "\n",
        "    for i in range(len(test_data)):\n",
        "        final_preds.append(mode(np.array(test_preds)[:,i]))\n",
        "\n",
        "    test_acc = round(accuracy(test_data[:,-1],final_preds)*100,2)\n",
        "    print(\"Overall Test Accuracy:\",test_acc,\"%\")\n",
        "    return test_acc\n"
      ],
      "execution_count": 28,
      "outputs": []
    },
    {
      "cell_type": "code",
      "metadata": {
        "colab": {
          "base_uri": "https://localhost:8080/"
        },
        "id": "z7os9OM1KP2y",
        "outputId": "359a1c32-e64d-4be0-a4ae-534f4e8b4d31"
      },
      "source": [
        "test_acc = run_decision_tree(11,100,8)"
      ],
      "execution_count": 29,
      "outputs": [
        {
          "output_type": "stream",
          "name": "stdout",
          "text": [
            "Overall Test Accuracy: 80.09 %\n"
          ]
        }
      ]
    },
    {
      "cell_type": "code",
      "metadata": {
        "id": "Nvl5UwpuzgiM",
        "colab": {
          "base_uri": "https://localhost:8080/"
        },
        "outputId": "3f442f2a-3cc5-4650-c4d9-2cfff07d1a14"
      },
      "source": [
        "from sklearn.ensemble import RandomForestClassifier\n",
        "data = np.array(pd.read_csv('https://web.stanford.edu/~hastie/ElemStatLearn//datasets/spam.data',delimiter=' ',header=None))\n",
        "\n",
        "X_train = data[:int(0.7*len(data)),:(data.shape[1]-1)]\n",
        "y_train = data[:int(0.7*len(data)),data.shape[1]-1]\n",
        "X_test = data[int(0.7*len(data)):,0:data.shape[1]-1]\n",
        "y_test = data[int(0.7*len(data)):,data.shape[1]-1]\n",
        "                    \n",
        "print(\"Overall Test Accuracy : \",round(accuracy_score(y_test,RandomForestClassifier(n_estimators=11,max_samples=100,max_features = 8).fit(X_train,y_train).predict(X_test))*100,2),\"%\")"
      ],
      "execution_count": 32,
      "outputs": [
        {
          "output_type": "stream",
          "name": "stdout",
          "text": [
            "Overall Test Accuracy :  80.45 %\n"
          ]
        }
      ]
    },
    {
      "cell_type": "code",
      "metadata": {
        "colab": {
          "base_uri": "https://localhost:8080/",
          "height": 490
        },
        "id": "0oFEScVyLxNQ",
        "outputId": "07fbf209-d9ee-4f19-bbac-7c9d21f6e356"
      },
      "source": [
        "test_arr =[]\n",
        "for m in range(10,31,2):\n",
        "    test_acc = run_decision_tree(11,100,m)\n",
        "    test_arr.append(test_acc)\n",
        "\n",
        "plt.plot(range(10,31,2),test_arr)\n",
        "plt.xlabel('Number of Features Used (m)')\n",
        "plt.ylabel('Test Accuracy Obtained (%) ')\n",
        "plt.title('Test accuracy vs Num features used for split')\n",
        "plt.show()"
      ],
      "execution_count": 33,
      "outputs": [
        {
          "output_type": "stream",
          "name": "stdout",
          "text": [
            "Overall Test Accuracy: 81.17 %\n",
            "Overall Test Accuracy: 86.46 %\n",
            "Overall Test Accuracy: 84.36 %\n",
            "Overall Test Accuracy: 81.61 %\n",
            "Overall Test Accuracy: 80.45 %\n",
            "Overall Test Accuracy: 76.83 %\n",
            "Overall Test Accuracy: 75.6 %\n",
            "Overall Test Accuracy: 77.05 %\n",
            "Overall Test Accuracy: 83.27 %\n",
            "Overall Test Accuracy: 81.82 %\n",
            "Overall Test Accuracy: 74.15 %\n"
          ]
        },
        {
          "output_type": "display_data",
          "data": {
            "image/png": "[encoded data removed]",
            "text/plain": [
              "<Figure size 432x288 with 1 Axes>"
            ]
          },
          "metadata": {
            "needs_background": "light"
          }
        }
      ]
    },
    {
      "cell_type": "code",
      "metadata": {
        "id": "sgvRggilXl4N"
      },
      "source": [
        "def run_decision_tree_OOB(num_trees,num_samples,num_features):\n",
        "    data = np.array(pd.read_csv('https://web.stanford.edu/~hastie/ElemStatLearn//datasets/spam.data',delimiter=' ',header=None))\n",
        "    split_ratio = 0.7\n",
        "    orig_train_data = data[:int(split_ratio*len(data)),:]\n",
        "    test_data = data[int(split_ratio*len(data)):,:]\n",
        "    global_oob_preds = []\n",
        "    final_oob_preds = []\n",
        "    test_preds = []\n",
        "    final_preds = []\n",
        "    for iter in range(num_trees):\n",
        "        single_test_preds = []\n",
        "        single_oob_preds = ['*' for i in range(len(orig_train_data))]\n",
        "\n",
        "        train_data,sample_rows = data_split(orig_train_data,num_samples)\n",
        "\n",
        "        out_data = np.delete(orig_train_data,sample_rows,axis = 0)\n",
        "        out_rows = np.delete(range(len(orig_train_data)),sample_rows)\n",
        "        tree = DecisionTree()\n",
        "        tree.learn(train_data,num_features)\n",
        "\n",
        "        for instance in test_data:\n",
        "            result = tree.classify( instance[:-1] )\n",
        "            single_test_preds.append(result)\n",
        "\n",
        "        for instance in range(len(out_data)):\n",
        "            result = tree.classify( out_data[instance,:-1] )\n",
        "            single_oob_preds[out_rows[instance]] = result\n",
        "\n",
        "        test_preds.append(single_test_preds)\n",
        "        global_oob_preds.append(single_oob_preds)\n",
        "\n",
        "    for i in range(len(test_data)):\n",
        "        final_preds.append(mode(np.array(test_preds)[:,i]))\n",
        "\n",
        "    for i in range(len(orig_train_data)):\n",
        "        freq_count = {'*':0,'1.0':0,'0.0':0}\n",
        "        for entry in np.array(global_oob_preds)[:,i]:\n",
        "            freq_count[entry] = freq_count[entry]+1 \n",
        "\n",
        "        if freq_count['1.0'] == freq_count['0.0']:\n",
        "            final_oob_preds.append(random.choice(['1.0','0.0']))\n",
        "        elif freq_count['*'] == freq_count['0.0']:\n",
        "            final_oob_preds.append('0.0')\n",
        "        elif freq_count['*'] == freq_count['1.0']:\n",
        "            final_oob_preds.append('1.0')\n",
        "        elif (freq_count['*'] > freq_count['1.0']) and (freq_count['*'] > freq_count['0.0']):\n",
        "            if (freq_count['1.0'] > freq_count['0.0']):\n",
        "                final_oob_preds.append('1.0')\n",
        "            else:\n",
        "                final_oob_preds.append('0.0')\n",
        "        else:\n",
        "            final_oob_preds.append(mode(np.array(global_oob_preds)[:,i]))\n",
        "\n",
        "    no_oob_rows = [i for i, x in enumerate(final_oob_preds) if x == '*']\n",
        "    OOB_acc = round(accuracy(np.delete(orig_train_data[:,-1],sample_rows).astype(np.float),np.delete(np.array(final_oob_preds),sample_rows).astype(np.float))*100,2)\n",
        "    print(\"OOB Accuracy: \",OOB_acc,\"%\")\n",
        "\n",
        "\n",
        "    test_acc = round(accuracy(test_data[:,-1],final_preds)*100,2)\n",
        "    print(\"Overall Test Accuracy:\",test_acc,\"%\")\n",
        "    return OOB_acc,test_acc\n"
      ],
      "execution_count": 34,
      "outputs": []
    },
    {
      "cell_type": "code",
      "metadata": {
        "colab": {
          "base_uri": "https://localhost:8080/",
          "height": 786
        },
        "id": "D7YVd_Z4X1vj",
        "outputId": "ae8b0740-4719-4e5c-f45f-614331682530"
      },
      "source": [
        "OOB_arr = []\n",
        "test_arr =[]\n",
        "for m in range(10,31,4):\n",
        "    OOB_acc, test_acc = run_decision_tree_OOB(11,100,m)\n",
        "    OOB_arr.append(100-OOB_acc)\n",
        "    test_arr.append(100-test_acc)\n",
        "\n",
        "plt.plot(range(10,31,4),OOB_arr)\n",
        "plt.xlabel('Number of Features Used (m)')\n",
        "plt.ylabel('OOB Error Obtained (%) ')\n",
        "plt.title('OOB Error vs Num features used for split')\n",
        "plt.show()\n",
        "plt.plot(range(10,31,4),test_arr)\n",
        "plt.xlabel('Number of Features Used (m)')\n",
        "plt.ylabel('Test Error Obtained (%) ')\n",
        "plt.title('Test Error vs Num features used for split')\n",
        "plt.show()"
      ],
      "execution_count": 36,
      "outputs": [
        {
          "output_type": "stream",
          "name": "stdout",
          "text": [
            "OOB Accuracy:  63.63 %\n",
            "Overall Test Accuracy: 82.98 %\n",
            "OOB Accuracy:  61.9 %\n",
            "Overall Test Accuracy: 81.82 %\n",
            "OOB Accuracy:  59.62 %\n",
            "Overall Test Accuracy: 82.19 %\n",
            "OOB Accuracy:  57.22 %\n",
            "Overall Test Accuracy: 76.25 %\n",
            "OOB Accuracy:  60.67 %\n",
            "Overall Test Accuracy: 82.84 %\n",
            "OOB Accuracy:  59.14 %\n",
            "Overall Test Accuracy: 86.89 %\n"
          ]
        },
        {
          "output_type": "display_data",
          "data": {
            "image/png": "[encoded data removed]",
            "text/plain": [
              "<Figure size 432x288 with 1 Axes>"
            ]
          },
          "metadata": {
            "needs_background": "light"
          }
        },
        {
          "output_type": "display_data",
          "data": {
            "image/png": "[encoded data removed]",
            "text/plain": [
              "<Figure size 432x288 with 1 Axes>"
            ]
          },
          "metadata": {
            "needs_background": "light"
          }
        }
      ]
    },
    {
      "cell_type": "code",
      "metadata": {
        "id": "SrufeiffvzAd"
      },
      "source": [
        ""
      ],
      "execution_count": null,
      "outputs": []
    }
  ]
}