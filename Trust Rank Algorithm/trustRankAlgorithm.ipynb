{
  "cells": [
    {
      "cell_type": "markdown",
      "metadata": {
        "id": "7NPZoRFg9D4-"
      },
      "source": [
        "## Fraud Analytics Assignment 3\n",
        "## Trust Rank Algorithm\n",
        "## Group Members:\n",
        "\n",
        "* K Srivatsan (ME18BTECH11016)\n",
        "* Amitanshu Sahoo (ME18BTECH11050)\n",
        "* Mohammed Sadiq (EE18BTECH11051)\n",
        "\n"
      ]
    },
    {
      "cell_type": "code",
      "execution_count": 1,
      "metadata": {
        "id": "cv2AVJgc9D5G"
      },
      "outputs": [],
      "source": [
        "import numpy as np"
      ]
    },
    {
      "cell_type": "code",
      "execution_count": 2,
      "metadata": {
        "id": "_1wQlymh9D5I"
      },
      "outputs": [],
      "source": [
        "# If the node names are 1-indexed, shift to 0-indexed\n",
        "def shift_to_zero_index(arr):\n",
        "    return np.asarray(arr)-1"
      ]
    },
    {
      "cell_type": "code",
      "execution_count": 3,
      "metadata": {
        "id": "hJ9rWqV79D5J"
      },
      "outputs": [],
      "source": [
        "# Input variables\n",
        "# Data from example in the pdf\n",
        "\n",
        "# n = 7\n",
        "# edges = np.asarray([[0,1,0,0,0,0,0],[0,0,1,1,0,0,0],[0,1,0,0,0,0,0],[0,0,0,0,1,0,0],[0,0,0,0,0,1,1],[0,0,1,0,0,0,0],[0,0,0,0,0,0,0]])\n",
        "# goodnodes = shift_to_zero_index([2, 4])    # Change to zero indexed values if needed\n",
        "# badnodes = shift_to_zero_index([5])\n",
        "# beta = 0.85\n",
        "# Mb = 20"
      ]
    },
    {
      "cell_type": "code",
      "execution_count": 4,
      "metadata": {
        "id": "f40qIsEy9D5K"
      },
      "outputs": [],
      "source": [
        "n = 4038\n",
        "edges = np.zeros((n,n))\n",
        "\n",
        "# Reading edges from file\n",
        "filepath = 'graph.txt'\n",
        "file1 = open(filepath, 'r')\n",
        "Lines = file1.readlines()\n",
        "\n",
        "for line in Lines:\n",
        "    nodes = [int(x) for x in line.split(\" \")]\n",
        "#     Using 0-indexed nodes, so node[0]-1 is used\n",
        "    edges[nodes[0]-1, nodes[1]-1] = 1\n",
        "\n",
        "# ------------------------------------------ Enter the 1-indexed goodnodes in the below array -----------------------\n",
        "goodnodes = shift_to_zero_index([1, 100, 678, 5, 2594, 3453, 395, 245, 1345, 932, 435, 32, 2353, 342,3253,769, 764, 987, 1034, 3256, 752, 835])\n",
        "badnodes = shift_to_zero_index([])\n",
        "beta = 0.85\n",
        "Mb = 5"
      ]
    },
    {
      "cell_type": "code",
      "execution_count": 5,
      "metadata": {
        "id": "QdcBC2Zy9D5L"
      },
      "outputs": [],
      "source": [
        "# Get indegree and outdegree arrays\n",
        "def get_in_and_out(edges):\n",
        "    n = len(edges)\n",
        "    indegree = [0]*n\n",
        "    outdegree = [0]*n\n",
        "    for i in range(n):\n",
        "        for j in range(n):\n",
        "            if edges[i, j]>0:\n",
        "                outdegree[i] = outdegree[i] + 1\n",
        "                indegree[j] = indegree[j] + 1\n",
        "    return indegree, outdegree\n",
        "\n",
        "# Generate trust matrix\n",
        "def get_trust(edges, outdegree):\n",
        "    n = len(edges)\n",
        "    trust = np.zeros((n, n))\n",
        "    for i in range(n):\n",
        "        for j in range(n):\n",
        "            if edges[j, i]>0:\n",
        "                trust[i, j] = 1/outdegree[j]\n",
        "    return trust\n",
        "\n",
        "def get_inv_trust(edges, indegree):\n",
        "    n = len(edges)\n",
        "    inv_trust = np.zeros((n, n))\n",
        "    for i in range(n):\n",
        "        for j in range(n):\n",
        "            if edges[i, j]:\n",
        "                inv_trust[i, j] = 1/indegree[j]\n",
        "    return inv_trust\n",
        "\n",
        "# Generate the initial trust array\n",
        "def get_d(n, goodnodes):\n",
        "    goodnodes = set(goodnodes)\n",
        "    d = np.zeros((n, 1))  \n",
        "    for node in goodnodes:\n",
        "        d[node] = 1/len(goodnodes)\n",
        "    return d"
      ]
    },
    {
      "cell_type": "code",
      "execution_count": 6,
      "metadata": {
        "colab": {
          "base_uri": "https://localhost:8080/"
        },
        "id": "72y1MYPh9D5M",
        "outputId": "0c050af0-3a73-41c8-f013-4715cd7adee6"
      },
      "outputs": [
        {
          "output_type": "stream",
          "name": "stdout",
          "text": [
            "Iteration:  1 , Trust score:  [0.01 0.   0.   ... 0.   0.   0.  ]\n",
            "Iteration:  2 , Trust score:  [0.01 0.   0.   ... 0.   0.   0.  ]\n",
            "Iteration:  3 , Trust score:  [0.01 0.   0.   ... 0.   0.   0.  ]\n",
            "Iteration:  4 , Trust score:  [0.01 0.   0.   ... 0.   0.   0.  ]\n",
            "Iteration:  5 , Trust score:  [0.01 0.   0.   ... 0.   0.   0.  ]\n",
            "Final trust scores:  [0.01 0.   0.   ... 0.   0.   0.  ]\n"
          ]
        }
      ],
      "source": [
        "indegree, outdegree = get_in_and_out(edges)\n",
        "# print(outdegree, indegree)\n",
        "T = get_trust(edges, outdegree)\n",
        "d = get_d(n, goodnodes)\n",
        "trust_scores = d\n",
        "\n",
        "for i in range(Mb):\n",
        "    trust_scores = beta*np.matmul(T, trust_scores) + (1-beta)*d\n",
        "#     Uncomment the line below to get scores for every iteration\n",
        "    print(\"Iteration: \", i+1, \", Trust score: \", np.round(trust_scores.T[0], 2))\n",
        "\n",
        "# Actual answer from the example\n",
        "#0, 0.18, 0.12, 0.15, 0.13, 0.05, 0.05\n",
        "print(\"Final trust scores: \",np.round(trust_scores.T[0], 2))\n",
        "\n",
        "np.savetxt('Trust Scores.txt', np.round(trust_scores.T[0], 4), delimiter=', ', fmt='%1.5f')"
      ]
    }
  ],
  "metadata": {
    "kernelspec": {
      "display_name": "Python 3",
      "language": "python",
      "name": "python3"
    },
    "language_info": {
      "codemirror_mode": {
        "name": "ipython",
        "version": 3
      },
      "file_extension": ".py",
      "mimetype": "text/x-python",
      "name": "python",
      "nbconvert_exporter": "python",
      "pygments_lexer": "ipython3",
      "version": "3.9.0"
    },
    "colab": {
      "name": "trustRankAlgorithm (1).ipynb",
      "provenance": []
    }
  },
  "nbformat": 4,
  "nbformat_minor": 0
}